{
  "nbformat": 4,
  "nbformat_minor": 0,
  "metadata": {
    "colab": {
      "name": "deep-fake-telegram.ipynb",
      "provenance": [],
      "collapsed_sections": [],
      "toc_visible": true,
      "include_colab_link": true
    },
    "kernelspec": {
      "name": "python3",
      "display_name": "Python 3"
    },
    "accelerator": "GPU"
  },
  "cells": [
    {
      "cell_type": "markdown",
      "metadata": {
        "id": "view-in-github",
        "colab_type": "text"
      },
      "source": [
        "<a href=\"https://colab.research.google.com/github/albertoxamin/telegram-deep-fakes-bot/blob/master/deep_fake_telegram.ipynb\" target=\"_parent\"><img src=\"https://colab.research.google.com/assets/colab-badge.svg\" alt=\"Open In Colab\"/></a>"
      ]
    },
    {
      "cell_type": "markdown",
      "metadata": {
        "id": "cdO_RxQZLahB",
        "colab_type": "text"
      },
      "source": [
        "# Demo for paper \"First Order Motion Model for Image Animation\""
      ]
    },
    {
      "cell_type": "markdown",
      "metadata": {
        "id": "GCDNKsEGLtR6",
        "colab_type": "text"
      },
      "source": [
        "**Clone repository**"
      ]
    },
    {
      "cell_type": "code",
      "metadata": {
        "id": "UCMFMJV7K-ag",
        "colab_type": "code",
        "outputId": "685a9766-e0f2-4057-d845-9bc1a02b2777",
        "colab": {
          "base_uri": "https://localhost:8080/",
          "height": 35
        }
      },
      "source": [
        "!git clone https://github.com/AliaksandrSiarohin/first-order-model"
      ],
      "execution_count": 1,
      "outputs": [
        {
          "output_type": "stream",
          "text": [
            "fatal: destination path 'first-order-model' already exists and is not an empty directory.\n"
          ],
          "name": "stdout"
        }
      ]
    },
    {
      "cell_type": "code",
      "metadata": {
        "id": "PBp6l_4bBYUL",
        "colab_type": "code",
        "outputId": "9b6f1bcd-08ac-4098-9a9a-ec3057b1f16f",
        "colab": {
          "base_uri": "https://localhost:8080/",
          "height": 35
        }
      },
      "source": [
        "cd first-order-model"
      ],
      "execution_count": 2,
      "outputs": [
        {
          "output_type": "stream",
          "text": [
            "/content/first-order-model\n"
          ],
          "name": "stdout"
        }
      ]
    },
    {
      "cell_type": "markdown",
      "metadata": {
        "id": "IcMX7ueZO0Oa",
        "colab_type": "text"
      },
      "source": [
        "**Mount your Google drive folder on Colab**"
      ]
    },
    {
      "cell_type": "code",
      "metadata": {
        "id": "tDbMA8R9OuUo",
        "colab_type": "code",
        "colab": {
          "base_uri": "https://localhost:8080/",
          "height": 127
        },
        "outputId": "7f02a032-366f-489c-b9f7-758d41d07488"
      },
      "source": [
        "from google.colab import drive\n",
        "drive.mount('/content/gdrive')"
      ],
      "execution_count": 3,
      "outputs": [
        {
          "output_type": "stream",
          "text": [
            "Go to this URL in a browser: https://accounts.google.com/o/oauth2/auth?client_id=947318989803-6bn6qk8qdgf4n4g3pfee6491hc0brc4i.apps.googleusercontent.com&redirect_uri=urn%3aietf%3awg%3aoauth%3a2.0%3aoob&response_type=code&scope=email%20https%3a%2f%2fwww.googleapis.com%2fauth%2fdocs.test%20https%3a%2f%2fwww.googleapis.com%2fauth%2fdrive%20https%3a%2f%2fwww.googleapis.com%2fauth%2fdrive.photos.readonly%20https%3a%2f%2fwww.googleapis.com%2fauth%2fpeopleapi.readonly\n",
            "\n",
            "Enter your authorization code:\n",
            "··········\n",
            "Mounted at /content/gdrive\n"
          ],
          "name": "stdout"
        }
      ]
    },
    {
      "cell_type": "markdown",
      "metadata": {
        "id": "VsgVK1EURXkd",
        "colab_type": "text"
      },
      "source": [
        "**Add folder https://drive.google.com/drive/folders/1kZ1gCnpfU0BnpdU47pLM_TQ6RypDDqgw?usp=sharing  to your google drive.**"
      ]
    },
    {
      "cell_type": "markdown",
      "metadata": {
        "id": "rW-ipQXPOWUo",
        "colab_type": "text"
      },
      "source": [
        "**Load driving video and source image**"
      ]
    },
    {
      "cell_type": "code",
      "metadata": {
        "id": "Oxi6-riLOgnm",
        "colab_type": "code",
        "colab": {}
      },
      "source": [
        "import imageio\n",
        "import numpy as np\n",
        "import matplotlib.pyplot as plt\n",
        "import matplotlib.animation as animation\n",
        "from skimage.transform import resize\n",
        "from IPython.display import HTML\n",
        "import warnings\n",
        "warnings.filterwarnings(\"ignore\")"
      ],
      "execution_count": 0,
      "outputs": []
    },
    {
      "cell_type": "markdown",
      "metadata": {
        "id": "xjM7ubVfWrwT",
        "colab_type": "text"
      },
      "source": [
        "**Create a model and load checkpoints**"
      ]
    },
    {
      "cell_type": "code",
      "metadata": {
        "id": "3FQiXqQPWt5B",
        "colab_type": "code",
        "colab": {}
      },
      "source": [
        "from demo import load_checkpoints\n",
        "from demo import make_animation\n",
        "from skimage import img_as_ubyte\n",
        "generator, kp_detector = load_checkpoints(config_path='config/vox-256.yaml', \n",
        "                            checkpoint_path='/content/gdrive/My Drive/first-order-motion-model/vox-cpk.pth.tar')"
      ],
      "execution_count": 0,
      "outputs": []
    },
    {
      "cell_type": "code",
      "metadata": {
        "id": "wFGm3aa8Nnq4",
        "colab_type": "code",
        "colab": {
          "base_uri": "https://localhost:8080/",
          "height": 325
        },
        "outputId": "79873e6a-a80d-4ca3-970b-b639cab70407"
      },
      "source": [
        "!pip install pyTelegramBotAPI"
      ],
      "execution_count": 6,
      "outputs": [
        {
          "output_type": "stream",
          "text": [
            "Collecting pyTelegramBotAPI\n",
            "\u001b[?25l  Downloading https://files.pythonhosted.org/packages/62/ab/99c606f69fcda57e35788b913dd34c9d9acb48dd26349141b3855dcf6351/pyTelegramBotAPI-3.6.7.tar.gz (65kB)\n",
            "\r\u001b[K     |█████                           | 10kB 30.8MB/s eta 0:00:01\r\u001b[K     |██████████                      | 20kB 34.9MB/s eta 0:00:01\r\u001b[K     |███████████████                 | 30kB 27.1MB/s eta 0:00:01\r\u001b[K     |████████████████████            | 40kB 19.2MB/s eta 0:00:01\r\u001b[K     |█████████████████████████       | 51kB 11.2MB/s eta 0:00:01\r\u001b[K     |██████████████████████████████  | 61kB 10.9MB/s eta 0:00:01\r\u001b[K     |████████████████████████████████| 71kB 6.2MB/s \n",
            "\u001b[?25hRequirement already satisfied: requests in /usr/local/lib/python3.6/dist-packages (from pyTelegramBotAPI) (2.21.0)\n",
            "Requirement already satisfied: six in /usr/local/lib/python3.6/dist-packages (from pyTelegramBotAPI) (1.12.0)\n",
            "Requirement already satisfied: urllib3<1.25,>=1.21.1 in /usr/local/lib/python3.6/dist-packages (from requests->pyTelegramBotAPI) (1.24.3)\n",
            "Requirement already satisfied: chardet<3.1.0,>=3.0.2 in /usr/local/lib/python3.6/dist-packages (from requests->pyTelegramBotAPI) (3.0.4)\n",
            "Requirement already satisfied: certifi>=2017.4.17 in /usr/local/lib/python3.6/dist-packages (from requests->pyTelegramBotAPI) (2019.11.28)\n",
            "Requirement already satisfied: idna<2.9,>=2.5 in /usr/local/lib/python3.6/dist-packages (from requests->pyTelegramBotAPI) (2.8)\n",
            "Building wheels for collected packages: pyTelegramBotAPI\n",
            "  Building wheel for pyTelegramBotAPI (setup.py) ... \u001b[?25l\u001b[?25hdone\n",
            "  Created wheel for pyTelegramBotAPI: filename=pyTelegramBotAPI-3.6.7-cp36-none-any.whl size=47178 sha256=43a66743a5727be576aea609521f25218e5b6e354da3b9513e7563606224a930\n",
            "  Stored in directory: /root/.cache/pip/wheels/23/40/18/8a34153f95ef0dc19e3954898e5a5079244b76a8afdd7d0ec5\n",
            "Successfully built pyTelegramBotAPI\n",
            "Installing collected packages: pyTelegramBotAPI\n",
            "Successfully installed pyTelegramBotAPI-3.6.7\n"
          ],
          "name": "stdout"
        }
      ]
    },
    {
      "cell_type": "code",
      "metadata": {
        "id": "jMSzRMloD8Mr",
        "colab_type": "code",
        "colab": {
          "base_uri": "https://localhost:8080/",
          "height": 53
        },
        "outputId": "dbfcc7e8-767f-46af-c349-de58498e2c33"
      },
      "source": [
        "import telebot\n",
        "import requests\n",
        "import shutil\n",
        "\n",
        "API_TOKEN=\"\"\n",
        "\n",
        "bot = telebot.TeleBot(API_TOKEN)\n",
        "\n",
        "@bot.message_handler(commands=['start', 'help'])\n",
        "def send_welcome(message):\n",
        "\tbot.reply_to(message, \"Hi send me a photo (with square aspect ratio), you will then be able to use this face\")\n",
        "\n",
        "\n",
        "@bot.message_handler(content_types=['photo'])\n",
        "def download_pic(message):\n",
        "  file_info = bot.get_file(message.photo[0].file_id)\n",
        "  file = requests.get('https://api.telegram.org/file/bot{0}/{1}'.format(API_TOKEN, file_info.file_path))\n",
        "  id = message.chat.id;\n",
        "  open(f'../src{id}.jpg', 'wb').write(file.content)\n",
        "  bot.reply_to(message, \"Perfect, now send me a video note! (for best results keep head movements to a minimum and keep a static background)\")\n",
        "\n",
        "@bot.message_handler(content_types=['video_note'])\n",
        "def download_video(message):\n",
        "  id = message.chat.id;\n",
        "  file_info = bot.get_file(message.video_note.file_id)\n",
        "  print('https://api.telegram.org/file/bot{0}/{1}'.format(API_TOKEN, file_info.file_path));\n",
        "  file = requests.get('https://api.telegram.org/file/bot{0}/{1}'.format(API_TOKEN, file_info.file_path))\n",
        "  open(f'../target{id}.mp4', 'wb').write(file.content)\n",
        "  bot.reply_to(message, \"I'm generating the deep fake...\")\n",
        "  bot.send_chat_action(id, 'record_video')\n",
        "  source_image = imageio.imread(f'../src{id}.jpg')\n",
        "  source_image = resize(source_image, (256, 256))[..., :3]\n",
        "  driving_video = imageio.mimread(f'../target{id}.mp4')\n",
        "  driving_video = [resize(frame, (256, 256))[..., :3] for frame in driving_video]\n",
        "  predictions = make_animation(source_image, driving_video, generator, kp_detector, relative=True)\n",
        "  imageio.mimsave(f'../generated{id}.mp4', [img_as_ubyte(frame) for frame in predictions])\n",
        "  videonote = open(f'../generated{id}.mp4', 'rb')\n",
        "  bot.send_video_note(id, videonote)\n",
        "\n",
        "bot.polling()"
      ],
      "execution_count": 7,
      "outputs": [
        {
          "output_type": "stream",
          "text": [
            "100%|██████████| 161/161 [00:07<00:00, 20.25it/s]\n"
          ],
          "name": "stderr"
        }
      ]
    }
  ]
}
