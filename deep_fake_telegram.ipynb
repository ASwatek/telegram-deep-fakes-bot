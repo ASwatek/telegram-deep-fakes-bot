{
  "nbformat": 4,
  "nbformat_minor": 0,
  "metadata": {
    "colab": {
      "name": "deep_fake_telegram.ipynb",
      "provenance": [],
      "collapsed_sections": [],
      "include_colab_link": true
    },
    "kernelspec": {
      "name": "python3",
      "display_name": "Python 3"
    },
    "accelerator": "GPU"
  },
  "cells": [
    {
      "cell_type": "markdown",
      "metadata": {
        "id": "view-in-github",
        "colab_type": "text"
      },
      "source": [
        "<a href=\"https://colab.research.google.com/github/albertoxamin/telegram-deep-fakes-bot/blob/master/deep_fake_telegram.ipynb\" target=\"_parent\"><img src=\"https://colab.research.google.com/assets/colab-badge.svg\" alt=\"Open In Colab\"/></a>"
      ]
    },
    {
      "cell_type": "markdown",
      "metadata": {
        "id": "cdO_RxQZLahB",
        "colab_type": "text"
      },
      "source": [
        "# Demo for paper \"First Order Motion Model for Image Animation\""
      ]
    },
    {
      "cell_type": "markdown",
      "metadata": {
        "id": "GCDNKsEGLtR6",
        "colab_type": "text"
      },
      "source": [
        "**Clone repository**"
      ]
    },
    {
      "cell_type": "code",
      "metadata": {
        "id": "UCMFMJV7K-ag",
        "colab_type": "code",
        "colab": {
          "base_uri": "https://localhost:8080/",
          "height": 143
        },
        "outputId": "873b81d7-10f3-42d1-bd22-f059b48fe571"
      },
      "source": [
        "!git clone https://github.com/AliaksandrSiarohin/first-order-model"
      ],
      "execution_count": 1,
      "outputs": [
        {
          "output_type": "stream",
          "text": [
            "Cloning into 'first-order-model'...\n",
            "remote: Enumerating objects: 22, done.\u001b[K\n",
            "remote: Counting objects:   4% (1/22)\u001b[K\rremote: Counting objects:   9% (2/22)\u001b[K\rremote: Counting objects:  13% (3/22)\u001b[K\rremote: Counting objects:  18% (4/22)\u001b[K\rremote: Counting objects:  22% (5/22)\u001b[K\rremote: Counting objects:  27% (6/22)\u001b[K\rremote: Counting objects:  31% (7/22)\u001b[K\rremote: Counting objects:  36% (8/22)\u001b[K\rremote: Counting objects:  40% (9/22)\u001b[K\rremote: Counting objects:  45% (10/22)\u001b[K\rremote: Counting objects:  50% (11/22)\u001b[K\rremote: Counting objects:  54% (12/22)\u001b[K\rremote: Counting objects:  59% (13/22)\u001b[K\rremote: Counting objects:  63% (14/22)\u001b[K\rremote: Counting objects:  68% (15/22)\u001b[K\rremote: Counting objects:  72% (16/22)\u001b[K\rremote: Counting objects:  77% (17/22)\u001b[K\rremote: Counting objects:  81% (18/22)\u001b[K\rremote: Counting objects:  86% (19/22)\u001b[K\rremote: Counting objects:  90% (20/22)\u001b[K\rremote: Counting objects:  95% (21/22)\u001b[K\rremote: Counting objects: 100% (22/22)\u001b[K\rremote: Counting objects: 100% (22/22), done.\u001b[K\n",
            "remote: Compressing objects: 100% (17/17), done.\u001b[K\n",
            "remote: Total 183 (delta 11), reused 12 (delta 5), pack-reused 161\u001b[K\n",
            "Receiving objects: 100% (183/183), 58.16 MiB | 9.98 MiB/s, done.\n",
            "Resolving deltas: 100% (88/88), done.\n"
          ],
          "name": "stdout"
        }
      ]
    },
    {
      "cell_type": "code",
      "metadata": {
        "id": "PBp6l_4bBYUL",
        "colab_type": "code",
        "colab": {
          "base_uri": "https://localhost:8080/",
          "height": 35
        },
        "outputId": "c9175f15-0e2d-4f3b-8aad-1f66d94659d5"
      },
      "source": [
        "cd first-order-model"
      ],
      "execution_count": 9,
      "outputs": [
        {
          "output_type": "stream",
          "text": [
            "/content/first-order-model\n"
          ],
          "name": "stdout"
        }
      ]
    },
    {
      "cell_type": "markdown",
      "metadata": {
        "id": "IcMX7ueZO0Oa",
        "colab_type": "text"
      },
      "source": [
        "**Mount your Google drive folder on Colab**"
      ]
    },
    {
      "cell_type": "code",
      "metadata": {
        "id": "tDbMA8R9OuUo",
        "colab_type": "code",
        "colab": {
          "base_uri": "https://localhost:8080/",
          "height": 127
        },
        "outputId": "d742e27f-16c9-4a0c-da6c-3974b2d8ec10"
      },
      "source": [
        "from google.colab import drive\n",
        "drive.mount('/content/gdrive')"
      ],
      "execution_count": 10,
      "outputs": [
        {
          "output_type": "stream",
          "text": [
            "Go to this URL in a browser: https://accounts.google.com/o/oauth2/auth?client_id=947318989803-6bn6qk8qdgf4n4g3pfee6491hc0brc4i.apps.googleusercontent.com&redirect_uri=urn%3aietf%3awg%3aoauth%3a2.0%3aoob&response_type=code&scope=email%20https%3a%2f%2fwww.googleapis.com%2fauth%2fdocs.test%20https%3a%2f%2fwww.googleapis.com%2fauth%2fdrive%20https%3a%2f%2fwww.googleapis.com%2fauth%2fdrive.photos.readonly%20https%3a%2f%2fwww.googleapis.com%2fauth%2fpeopleapi.readonly\n",
            "\n",
            "Enter your authorization code:\n",
            "··········\n",
            "Mounted at /content/gdrive\n"
          ],
          "name": "stdout"
        }
      ]
    },
    {
      "cell_type": "markdown",
      "metadata": {
        "id": "VsgVK1EURXkd",
        "colab_type": "text"
      },
      "source": [
        "**Add folder https://drive.google.com/drive/folders/1kZ1gCnpfU0BnpdU47pLM_TQ6RypDDqgw?usp=sharing  to your google drive.**"
      ]
    },
    {
      "cell_type": "markdown",
      "metadata": {
        "id": "rW-ipQXPOWUo",
        "colab_type": "text"
      },
      "source": [
        "**Load driving video and source image**"
      ]
    },
    {
      "cell_type": "code",
      "metadata": {
        "id": "Oxi6-riLOgnm",
        "colab_type": "code",
        "colab": {}
      },
      "source": [
        "import imageio\n",
        "import numpy as np\n",
        "import matplotlib.pyplot as plt\n",
        "import matplotlib.animation as animation\n",
        "from skimage.transform import resize\n",
        "from IPython.display import HTML\n",
        "import warnings\n",
        "warnings.filterwarnings(\"ignore\")"
      ],
      "execution_count": 0,
      "outputs": []
    },
    {
      "cell_type": "markdown",
      "metadata": {
        "id": "xjM7ubVfWrwT",
        "colab_type": "text"
      },
      "source": [
        "**Create a model and load checkpoints**"
      ]
    },
    {
      "cell_type": "code",
      "metadata": {
        "id": "3FQiXqQPWt5B",
        "colab_type": "code",
        "colab": {}
      },
      "source": [
        "from demo import load_checkpoints\n",
        "from demo import make_animation\n",
        "from skimage import img_as_ubyte\n",
        "generator, kp_detector = load_checkpoints(config_path='config/vox-adv-256.yaml', \n",
        "                            checkpoint_path='/content/gdrive/My Drive/first-order-motion-model/vox-adv-cpk.pth.tar')"
      ],
      "execution_count": 0,
      "outputs": []
    },
    {
      "cell_type": "code",
      "metadata": {
        "id": "wFGm3aa8Nnq4",
        "colab_type": "code",
        "colab": {
          "base_uri": "https://localhost:8080/",
          "height": 325
        },
        "outputId": "195c7bbe-b321-458d-c3e4-6bfbe57d8ba9"
      },
      "source": [
        "!pip install pyTelegramBotAPI"
      ],
      "execution_count": 13,
      "outputs": [
        {
          "output_type": "stream",
          "text": [
            "Collecting pyTelegramBotAPI\n",
            "\u001b[?25l  Downloading https://files.pythonhosted.org/packages/62/ab/99c606f69fcda57e35788b913dd34c9d9acb48dd26349141b3855dcf6351/pyTelegramBotAPI-3.6.7.tar.gz (65kB)\n",
            "\r\u001b[K     |█████                           | 10kB 17.7MB/s eta 0:00:01\r\u001b[K     |██████████                      | 20kB 834kB/s eta 0:00:01\r\u001b[K     |███████████████                 | 30kB 1.1MB/s eta 0:00:01\r\u001b[K     |████████████████████            | 40kB 1.3MB/s eta 0:00:01\r\u001b[K     |█████████████████████████       | 51kB 980kB/s eta 0:00:01\r\u001b[K     |██████████████████████████████  | 61kB 1.1MB/s eta 0:00:01\r\u001b[K     |████████████████████████████████| 71kB 1.1MB/s \n",
            "\u001b[?25hRequirement already satisfied: requests in /usr/local/lib/python3.6/dist-packages (from pyTelegramBotAPI) (2.21.0)\n",
            "Requirement already satisfied: six in /usr/local/lib/python3.6/dist-packages (from pyTelegramBotAPI) (1.12.0)\n",
            "Requirement already satisfied: certifi>=2017.4.17 in /usr/local/lib/python3.6/dist-packages (from requests->pyTelegramBotAPI) (2019.11.28)\n",
            "Requirement already satisfied: chardet<3.1.0,>=3.0.2 in /usr/local/lib/python3.6/dist-packages (from requests->pyTelegramBotAPI) (3.0.4)\n",
            "Requirement already satisfied: idna<2.9,>=2.5 in /usr/local/lib/python3.6/dist-packages (from requests->pyTelegramBotAPI) (2.8)\n",
            "Requirement already satisfied: urllib3<1.25,>=1.21.1 in /usr/local/lib/python3.6/dist-packages (from requests->pyTelegramBotAPI) (1.24.3)\n",
            "Building wheels for collected packages: pyTelegramBotAPI\n",
            "  Building wheel for pyTelegramBotAPI (setup.py) ... \u001b[?25l\u001b[?25hdone\n",
            "  Created wheel for pyTelegramBotAPI: filename=pyTelegramBotAPI-3.6.7-cp36-none-any.whl size=47178 sha256=258b00f00c6d5a5025144122f0a1a51aa34cea6d3d2b781bd353f4321126869a\n",
            "  Stored in directory: /root/.cache/pip/wheels/23/40/18/8a34153f95ef0dc19e3954898e5a5079244b76a8afdd7d0ec5\n",
            "Successfully built pyTelegramBotAPI\n",
            "Installing collected packages: pyTelegramBotAPI\n",
            "Successfully installed pyTelegramBotAPI-3.6.7\n"
          ],
          "name": "stdout"
        }
      ]
    },
    {
      "cell_type": "code",
      "metadata": {
        "id": "jMSzRMloD8Mr",
        "colab_type": "code",
        "colab": {
          "base_uri": "https://localhost:8080/",
          "height": 379
        },
        "outputId": "16afac3f-c610-43b0-e1a6-7d929d7ab1cf"
      },
      "source": [
        "import telebot\n",
        "import requests\n",
        "import shutil\n",
        "import subprocess\n",
        "import os.path\n",
        "\n",
        "API_TOKEN=\"\"\n",
        "\n",
        "bot = telebot.TeleBot(API_TOKEN)\n",
        "\n",
        "@bot.message_handler(commands=['start', 'help'])\n",
        "def send_welcome(message):\n",
        "\tbot.reply_to(message, \"Hi send me a photo (with square aspect ratio), you will then be able to use this face. This bot uses the first order model, view the source code here: https://github.com/albertoxamin/telegram-deep-fakes-bot\")\n",
        "\n",
        "\n",
        "@bot.message_handler(content_types=['photo'])\n",
        "def download_pic(message):\n",
        "  file_info = bot.get_file(message.photo[0].file_id)\n",
        "  file = requests.get('https://api.telegram.org/file/bot{0}/{1}'.format(API_TOKEN, file_info.file_path))\n",
        "  id = message.chat.id;\n",
        "  open(f'../src{id}.jpg', 'wb').write(file.content)\n",
        "  bot.reply_to(message, \"Perfect, now send me a video note! (for best results keep head movements to a minimum and keep a static background)\")\n",
        "\n",
        "@bot.message_handler(content_types=['video_note'])\n",
        "def download_video(message):\n",
        "  try:\n",
        "    id = message.chat.id;\n",
        "    file_info = bot.get_file(message.video_note.file_id)\n",
        "    print('https://api.telegram.org/file/bot{0}/{1}'.format(API_TOKEN, file_info.file_path));\n",
        "    file = requests.get('https://api.telegram.org/file/bot{0}/{1}'.format(API_TOKEN, file_info.file_path))\n",
        "    open(f'../target{id}.mp4', 'wb').write(file.content)\n",
        "    #extract audio\n",
        "    subprocess.call(['ffmpeg', '-i', f'../target{id}.mp4', '-vn', '-acodec','copy', f'../out{id}.aac'])\n",
        "    bot.reply_to(message, \"I'm generating the deep fake...\")\n",
        "    bot.send_chat_action(id, 'record_video')\n",
        "    source_image = imageio.imread(f'../src{id}.jpg')\n",
        "    source_image = resize(source_image, (256, 256))[..., :3]\n",
        "    try:\n",
        "      driving_video = imageio.mimread(f'../target{id}.mp4')\n",
        "    except Exception as e:\n",
        "      reader = imageio.get_reader(f'../target{id}.mp4')\n",
        "      driving_video = []\n",
        "      try:\n",
        "          for im in reader:\n",
        "              driving_video.append(im)\n",
        "      except RuntimeError:\n",
        "          pass\n",
        "    driving_video = [resize(frame, (256, 256))[..., :3] for frame in driving_video]\n",
        "    predictions = make_animation(source_image, driving_video, generator, kp_detector, relative=True)\n",
        "    imageio.mimsave(f'../generated{id}.mp4', [img_as_ubyte(frame) for frame in predictions])\n",
        "    #normal speed\n",
        "    subprocess.call(['ffmpeg', '-itsscale','0.33334', '-i', f'../generated{id}.mp4', '-c','copy', f'../generated_fast{id}.mp4'])\n",
        "    #add audio\n",
        "    subprocess.call(['ffmpeg', '-i', f'../generated_fast{id}.mp4', '-i',f'../out{id}.aac', '-c', 'copy','-map','0:v:0','-map','1:a:0', f'../tosend{id}.mp4'])\n",
        "    videonote = open(f'../tosend{id}.mp4', 'rb')\n",
        "    bot.send_video_note(id, videonote)\n",
        "  finally:\n",
        "    #cleanup\n",
        "    if os.path.exists(f'../target{id}.mp4'):\n",
        "      os.remove(f'../target{id}.mp4')\n",
        "    if os.path.exists(f'../generated{id}.mp4'):\n",
        "      os.remove(f'../generated{id}.mp4')\n",
        "    if os.path.exists(f'../generated_fast{id}.mp4'):\n",
        "      os.remove(f'../generated_fast{id}.mp4')\n",
        "    if os.path.exists(f'../tosend{id}.mp4'):\n",
        "      os.remove(f'../tosend{id}.mp4')\n",
        "    if os.path.exists(f'../out{id}.aac'):\n",
        "      os.remove(f'../out{id}.aac')\n",
        "    if os.path.exists(f'../src{id}.jpg'):\n",
        "      os.remove(f'../src{id}.jpg')\n",
        "\n",
        "bot.polling()"
      ],
      "execution_count": 21,
      "outputs": [
        {
          "output_type": "stream",
          "text": [
            "2020-04-09 08:56:02,261 (util.py:66 PollingThread) ERROR - TeleBot: \"ApiException occurred, args=('A request to the Telegram API was unsuccessful. The server returned HTTP 404 Not Found. Response body:\\n[b\\'{\"ok\":false,\"error_code\":404,\"description\":\"Not Found\"}\\']',)\n",
            "Traceback (most recent call last):\n",
            "  File \"/usr/local/lib/python3.6/dist-packages/telebot/util.py\", line 60, in run\n",
            "    task(*args, **kwargs)\n",
            "  File \"/usr/local/lib/python3.6/dist-packages/telebot/__init__.py\", line 279, in __retrieve_updates\n",
            "    updates = self.get_updates(offset=(self.last_update_id + 1), timeout=timeout)\n",
            "  File \"/usr/local/lib/python3.6/dist-packages/telebot/__init__.py\", line 249, in get_updates\n",
            "    json_updates = apihelper.get_updates(self.token, offset, limit, timeout, allowed_updates)\n",
            "  File \"/usr/local/lib/python3.6/dist-packages/telebot/apihelper.py\", line 194, in get_updates\n",
            "    return _make_request(token, method_url, params=payload)\n",
            "  File \"/usr/local/lib/python3.6/dist-packages/telebot/apihelper.py\", line 60, in _make_request\n",
            "    return _check_result(method_name, result)['result']\n",
            "  File \"/usr/local/lib/python3.6/dist-packages/telebot/apihelper.py\", line 79, in _check_result\n",
            "    raise ApiException(msg, method_name, result)\n",
            "telebot.apihelper.ApiException: A request to the Telegram API was unsuccessful. The server returned HTTP 404 Not Found. Response body:\n",
            "[b'{\"ok\":false,\"error_code\":404,\"description\":\"Not Found\"}']\n",
            "\"\n",
            "2020-04-09 08:56:02,263 (__init__.py:420 MainThread) ERROR - TeleBot: \"A request to the Telegram API was unsuccessful. The server returned HTTP 404 Not Found. Response body:\n",
            "[b'{\"ok\":false,\"error_code\":404,\"description\":\"Not Found\"}']\"\n"
          ],
          "name": "stderr"
        }
      ]
    }
  ]
}