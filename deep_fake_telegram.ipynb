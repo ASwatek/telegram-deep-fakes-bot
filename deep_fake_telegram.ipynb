{
  "nbformat": 4,
  "nbformat_minor": 0,
  "metadata": {
    "colab": {
      "name": "deep_fake_telegram.ipynb",
      "provenance": [],
      "collapsed_sections": []
    },
    "kernelspec": {
      "name": "python3",
      "display_name": "Python 3"
    },
    "accelerator": "GPU"
  },
  "cells": [
    {
      "cell_type": "markdown",
      "metadata": {
        "id": "view-in-github",
        "colab_type": "text"
      },
      "source": [
        "<a href=\"https://colab.research.google.com/github/albertoxamin/telegram-deep-fakes-bot/blob/master/deep_fake_telegram.ipynb\" target=\"_parent\"><img src=\"https://colab.research.google.com/assets/colab-badge.svg\" alt=\"Open In Colab\"/></a>"
      ]
    },
    {
      "cell_type": "markdown",
      "metadata": {
        "id": "cdO_RxQZLahB",
        "colab_type": "text"
      },
      "source": [
        "# Demo for paper \"First Order Motion Model for Image Animation\""
      ]
    },
    {
      "cell_type": "markdown",
      "metadata": {
        "id": "GCDNKsEGLtR6",
        "colab_type": "text"
      },
      "source": [
        "**Clone repository**"
      ]
    },
    {
      "cell_type": "code",
      "metadata": {
        "id": "UCMFMJV7K-ag",
        "colab_type": "code",
        "colab": {}
      },
      "source": [
        "!git clone https://github.com/AliaksandrSiarohin/first-order-model"
      ],
      "execution_count": 0,
      "outputs": []
    },
    {
      "cell_type": "code",
      "metadata": {
        "id": "PBp6l_4bBYUL",
        "colab_type": "code",
        "colab": {}
      },
      "source": [
        "cd first-order-model"
      ],
      "execution_count": 0,
      "outputs": []
    },
    {
      "cell_type": "markdown",
      "metadata": {
        "id": "IcMX7ueZO0Oa",
        "colab_type": "text"
      },
      "source": [
        "**Mount your Google drive folder on Colab**"
      ]
    },
    {
      "cell_type": "code",
      "metadata": {
        "id": "tDbMA8R9OuUo",
        "colab_type": "code",
        "colab": {}
      },
      "source": [
        "from google.colab import drive\n",
        "drive.mount('/content/gdrive')"
      ],
      "execution_count": 0,
      "outputs": []
    },
    {
      "cell_type": "markdown",
      "metadata": {
        "id": "VsgVK1EURXkd",
        "colab_type": "text"
      },
      "source": [
        "**Add folder https://drive.google.com/drive/folders/1kZ1gCnpfU0BnpdU47pLM_TQ6RypDDqgw?usp=sharing  to your google drive.**"
      ]
    },
    {
      "cell_type": "markdown",
      "metadata": {
        "id": "rW-ipQXPOWUo",
        "colab_type": "text"
      },
      "source": [
        "**Load driving video and source image**"
      ]
    },
    {
      "cell_type": "code",
      "metadata": {
        "id": "Oxi6-riLOgnm",
        "colab_type": "code",
        "colab": {}
      },
      "source": [
        "import imageio\n",
        "import numpy as np\n",
        "import matplotlib.pyplot as plt\n",
        "import matplotlib.animation as animation\n",
        "from skimage.transform import resize\n",
        "from IPython.display import HTML\n",
        "import warnings\n",
        "warnings.filterwarnings(\"ignore\")"
      ],
      "execution_count": 0,
      "outputs": []
    },
    {
      "cell_type": "markdown",
      "metadata": {
        "id": "xjM7ubVfWrwT",
        "colab_type": "text"
      },
      "source": [
        "**Create a model and load checkpoints**"
      ]
    },
    {
      "cell_type": "code",
      "metadata": {
        "id": "3FQiXqQPWt5B",
        "colab_type": "code",
        "colab": {}
      },
      "source": [
        "from demo import load_checkpoints\n",
        "from demo import make_animation\n",
        "from skimage import img_as_ubyte\n",
        "generator, kp_detector = load_checkpoints(config_path='config/vox-adv-256.yaml', \n",
        "                            checkpoint_path='/content/gdrive/My Drive/first-order-motion-model/vox-adv-cpk.pth.tar')"
      ],
      "execution_count": 0,
      "outputs": []
    },
    {
      "cell_type": "code",
      "metadata": {
        "id": "wFGm3aa8Nnq4",
        "colab_type": "code",
        "colab": {}
      },
      "source": [
        "!pip install pyTelegramBotAPI"
      ],
      "execution_count": 0,
      "outputs": []
    },
    {
      "cell_type": "code",
      "metadata": {
        "id": "jMSzRMloD8Mr",
        "colab_type": "code",
        "colab": {}
      },
      "source": [
        "import telebot\n",
        "import requests\n",
        "import shutil\n",
        "import subprocess\n",
        "import os.path\n",
        "\n",
        "API_TOKEN=\"\"\n",
        "\n",
        "bot = telebot.TeleBot(API_TOKEN)\n",
        "settings = {'video':False}\n",
        "\n",
        "@bot.message_handler(commands=['start', 'help'])\n",
        "def send_welcome(message):\n",
        "\tbot.reply_to(message, \"Hi send me a photo (with square aspect ratio), you will then be able to use this face\\nSwitch output between video mode and video note mode with /mode\\nThis bot uses the first order model, view the source code here: https://github.com/albertoxamin/telegram-deep-fakes-bot\")\n",
        "\n",
        "\n",
        "@bot.message_handler(commands=['mode'])\n",
        "def videomode(message):\n",
        "  if settings['video']:\n",
        "    settings['video']=False\n",
        "  else:\n",
        "    settings['video']=True\n",
        "  bot.reply_to(message, \"I've changed mode correctly.\")\n",
        "\n",
        "@bot.message_handler(content_types=['photo'])\n",
        "def download_pic(message):\n",
        "  file_info = bot.get_file(message.photo[0].file_id)\n",
        "  file = requests.get('https://api.telegram.org/file/bot{0}/{1}'.format(API_TOKEN, file_info.file_path))\n",
        "  id = message.chat.id;\n",
        "  open(f'../src{id}.jpg', 'wb').write(file.content)\n",
        "  bot.reply_to(message, \"Perfect, now send me a video note! (for best results keep head movements to a minimum and keep a static background)\")\n",
        "\n",
        "@bot.message_handler(content_types=['video_note'])\n",
        "def download_video(message):\n",
        "  try:\n",
        "    id = message.chat.id;\n",
        "    file_info = bot.get_file(message.video_note.file_id)\n",
        "    print('https://api.telegram.org/file/bot{0}/{1}'.format(API_TOKEN, file_info.file_path));\n",
        "    file = requests.get('https://api.telegram.org/file/bot{0}/{1}'.format(API_TOKEN, file_info.file_path))\n",
        "    open(f'../target{id}.mp4', 'wb').write(file.content)\n",
        "    #extract audio\n",
        "    subprocess.call(['ffmpeg', '-i', f'../target{id}.mp4', '-vn', '-acodec','copy', f'../out{id}.aac'])\n",
        "    bot.reply_to(message, \"I'm generating the deep fake...\")\n",
        "    bot.send_chat_action(id, 'record_video')\n",
        "    source_image = imageio.imread(f'../src{id}.jpg')\n",
        "    source_image = resize(source_image, (256, 256))[..., :3]\n",
        "    try:\n",
        "      driving_video = imageio.mimread(f'../target{id}.mp4')\n",
        "    except Exception as e:\n",
        "      reader = imageio.get_reader(f'../target{id}.mp4')\n",
        "      driving_video = []\n",
        "      try:\n",
        "          for im in reader:\n",
        "              driving_video.append(im)\n",
        "      except RuntimeError:\n",
        "          pass\n",
        "    driving_video = [resize(frame, (256, 256))[..., :3] for frame in driving_video]\n",
        "    predictions = make_animation(source_image, driving_video, generator, kp_detector, relative=True)\n",
        "    imageio.mimsave(f'../generated{id}.mp4', [img_as_ubyte(frame) for frame in predictions])\n",
        "    #normal speed\n",
        "    subprocess.call(['ffmpeg', '-itsscale','0.33334', '-i', f'../generated{id}.mp4', '-c','copy', f'../generated_fast{id}.mp4'])\n",
        "    #add audio\n",
        "    subprocess.call(['ffmpeg', '-i', f'../generated_fast{id}.mp4', '-i',f'../out{id}.aac', '-c', 'copy','-map','0:v:0','-map','1:a:0', f'../tosend{id}.mp4'])\n",
        "    videonote = open(f'../tosend{id}.mp4', 'rb')\n",
        "    if settings['video']:\n",
        "      bot.send_video(id, videonote)\n",
        "    else:\n",
        "      bot.send_video_note(id,videonote)\n",
        "  finally:\n",
        "    #cleanup\n",
        "    if os.path.exists(f'../target{id}.mp4'):\n",
        "      os.remove(f'../target{id}.mp4')\n",
        "    if os.path.exists(f'../generated{id}.mp4'):\n",
        "      os.remove(f'../generated{id}.mp4')\n",
        "    if os.path.exists(f'../generated_fast{id}.mp4'):\n",
        "      os.remove(f'../generated_fast{id}.mp4')\n",
        "    if os.path.exists(f'../tosend{id}.mp4'):\n",
        "      os.remove(f'../tosend{id}.mp4')\n",
        "    if os.path.exists(f'../out{id}.aac'):\n",
        "      os.remove(f'../out{id}.aac')\n",
        "    if os.path.exists(f'../src{id}.jpg'):\n",
        "      os.remove(f'../src{id}.jpg')\n",
        "\n",
        "bot.polling()"
      ],
      "execution_count": 0,
      "outputs": []
    }
  ]
}